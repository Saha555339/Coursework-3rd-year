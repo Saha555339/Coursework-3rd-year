{
  "nbformat": 4,
  "nbformat_minor": 0,
  "metadata": {
    "colab": {
      "provenance": [],
      "authorship_tag": "ABX9TyPGvBrU8iwYDFc7SDg44swn",
      "include_colab_link": true
    },
    "kernelspec": {
      "name": "python3",
      "display_name": "Python 3"
    },
    "language_info": {
      "name": "python"
    }
  },
  "cells": [
    {
      "cell_type": "markdown",
      "metadata": {
        "id": "view-in-github",
        "colab_type": "text"
      },
      "source": [
        "<a href=\"https://colab.research.google.com/github/Saha555339/Coursework-3rd-year/blob/main/%D0%9A%D1%83%D1%80%D1%81%D0%BE%D0%B2%D0%B0%D1%8F_%D0%9A%D0%BE%D1%80%D1%80%D0%B5%D0%BB%D1%8F%D1%86%D0%B8%D1%8F.ipynb\" target=\"_parent\"><img src=\"https://colab.research.google.com/assets/colab-badge.svg\" alt=\"Open In Colab\"/></a>"
      ]
    },
    {
      "cell_type": "code",
      "source": [
        "import pandas as pd\n",
        "\n",
        "data = pd.read_csv(\"/content/Data_Deputies_Rating_2021_June_Passed.csv\", index_col=0)\n",
        "data.head()"
      ],
      "metadata": {
        "colab": {
          "base_uri": "https://localhost:8080/",
          "height": 250
        },
        "id": "57pvpTVG53ZD",
        "outputId": "8d295042-8074-4a7e-9d0f-f63ae076fda6"
      },
      "execution_count": 12,
      "outputs": [
        {
          "output_type": "execute_result",
          "data": {
            "text/plain": [
              "                                ФИО  Активность в ГД  \\\n",
              "0  Крашенинников Павел Владимирович             9.32   \n",
              "1       Хинштейн Александр Евсеевич             5.22   \n",
              "2          Нилов Ярослав Евгеньевич            14.91   \n",
              "3             Толстой Петр Олегович             0.37   \n",
              "4       Исаев Андрей Константинович             4.85   \n",
              "\n",
              "   Индекс народного голосования  Оценка экспертов  Индекс цитируемости  КПДГД  \\\n",
              "0                          8.66              29.5                10.94  58.42   \n",
              "1                          0.48              24.0                28.45  58.15   \n",
              "2                         10.63              24.0                 8.21  57.75   \n",
              "3                         13.27              29.0                13.87  56.51   \n",
              "4                         11.60              27.0                12.92  56.37   \n",
              "\n",
              "   Прошел  \n",
              "0       1  \n",
              "1       1  \n",
              "2       1  \n",
              "3       1  \n",
              "4       1  "
            ],
            "text/html": [
              "\n",
              "  <div id=\"df-25b64348-ea1d-44c5-ac74-00e2293cd7f6\">\n",
              "    <div class=\"colab-df-container\">\n",
              "      <div>\n",
              "<style scoped>\n",
              "    .dataframe tbody tr th:only-of-type {\n",
              "        vertical-align: middle;\n",
              "    }\n",
              "\n",
              "    .dataframe tbody tr th {\n",
              "        vertical-align: top;\n",
              "    }\n",
              "\n",
              "    .dataframe thead th {\n",
              "        text-align: right;\n",
              "    }\n",
              "</style>\n",
              "<table border=\"1\" class=\"dataframe\">\n",
              "  <thead>\n",
              "    <tr style=\"text-align: right;\">\n",
              "      <th></th>\n",
              "      <th>ФИО</th>\n",
              "      <th>Активность в ГД</th>\n",
              "      <th>Индекс народного голосования</th>\n",
              "      <th>Оценка экспертов</th>\n",
              "      <th>Индекс цитируемости</th>\n",
              "      <th>КПДГД</th>\n",
              "      <th>Прошел</th>\n",
              "    </tr>\n",
              "  </thead>\n",
              "  <tbody>\n",
              "    <tr>\n",
              "      <th>0</th>\n",
              "      <td>Крашенинников Павел Владимирович</td>\n",
              "      <td>9.32</td>\n",
              "      <td>8.66</td>\n",
              "      <td>29.5</td>\n",
              "      <td>10.94</td>\n",
              "      <td>58.42</td>\n",
              "      <td>1</td>\n",
              "    </tr>\n",
              "    <tr>\n",
              "      <th>1</th>\n",
              "      <td>Хинштейн Александр Евсеевич</td>\n",
              "      <td>5.22</td>\n",
              "      <td>0.48</td>\n",
              "      <td>24.0</td>\n",
              "      <td>28.45</td>\n",
              "      <td>58.15</td>\n",
              "      <td>1</td>\n",
              "    </tr>\n",
              "    <tr>\n",
              "      <th>2</th>\n",
              "      <td>Нилов Ярослав Евгеньевич</td>\n",
              "      <td>14.91</td>\n",
              "      <td>10.63</td>\n",
              "      <td>24.0</td>\n",
              "      <td>8.21</td>\n",
              "      <td>57.75</td>\n",
              "      <td>1</td>\n",
              "    </tr>\n",
              "    <tr>\n",
              "      <th>3</th>\n",
              "      <td>Толстой Петр Олегович</td>\n",
              "      <td>0.37</td>\n",
              "      <td>13.27</td>\n",
              "      <td>29.0</td>\n",
              "      <td>13.87</td>\n",
              "      <td>56.51</td>\n",
              "      <td>1</td>\n",
              "    </tr>\n",
              "    <tr>\n",
              "      <th>4</th>\n",
              "      <td>Исаев Андрей Константинович</td>\n",
              "      <td>4.85</td>\n",
              "      <td>11.60</td>\n",
              "      <td>27.0</td>\n",
              "      <td>12.92</td>\n",
              "      <td>56.37</td>\n",
              "      <td>1</td>\n",
              "    </tr>\n",
              "  </tbody>\n",
              "</table>\n",
              "</div>\n",
              "      <button class=\"colab-df-convert\" onclick=\"convertToInteractive('df-25b64348-ea1d-44c5-ac74-00e2293cd7f6')\"\n",
              "              title=\"Convert this dataframe to an interactive table.\"\n",
              "              style=\"display:none;\">\n",
              "        \n",
              "  <svg xmlns=\"http://www.w3.org/2000/svg\" height=\"24px\"viewBox=\"0 0 24 24\"\n",
              "       width=\"24px\">\n",
              "    <path d=\"M0 0h24v24H0V0z\" fill=\"none\"/>\n",
              "    <path d=\"M18.56 5.44l.94 2.06.94-2.06 2.06-.94-2.06-.94-.94-2.06-.94 2.06-2.06.94zm-11 1L8.5 8.5l.94-2.06 2.06-.94-2.06-.94L8.5 2.5l-.94 2.06-2.06.94zm10 10l.94 2.06.94-2.06 2.06-.94-2.06-.94-.94-2.06-.94 2.06-2.06.94z\"/><path d=\"M17.41 7.96l-1.37-1.37c-.4-.4-.92-.59-1.43-.59-.52 0-1.04.2-1.43.59L10.3 9.45l-7.72 7.72c-.78.78-.78 2.05 0 2.83L4 21.41c.39.39.9.59 1.41.59.51 0 1.02-.2 1.41-.59l7.78-7.78 2.81-2.81c.8-.78.8-2.07 0-2.86zM5.41 20L4 18.59l7.72-7.72 1.47 1.35L5.41 20z\"/>\n",
              "  </svg>\n",
              "      </button>\n",
              "      \n",
              "  <style>\n",
              "    .colab-df-container {\n",
              "      display:flex;\n",
              "      flex-wrap:wrap;\n",
              "      gap: 12px;\n",
              "    }\n",
              "\n",
              "    .colab-df-convert {\n",
              "      background-color: #E8F0FE;\n",
              "      border: none;\n",
              "      border-radius: 50%;\n",
              "      cursor: pointer;\n",
              "      display: none;\n",
              "      fill: #1967D2;\n",
              "      height: 32px;\n",
              "      padding: 0 0 0 0;\n",
              "      width: 32px;\n",
              "    }\n",
              "\n",
              "    .colab-df-convert:hover {\n",
              "      background-color: #E2EBFA;\n",
              "      box-shadow: 0px 1px 2px rgba(60, 64, 67, 0.3), 0px 1px 3px 1px rgba(60, 64, 67, 0.15);\n",
              "      fill: #174EA6;\n",
              "    }\n",
              "\n",
              "    [theme=dark] .colab-df-convert {\n",
              "      background-color: #3B4455;\n",
              "      fill: #D2E3FC;\n",
              "    }\n",
              "\n",
              "    [theme=dark] .colab-df-convert:hover {\n",
              "      background-color: #434B5C;\n",
              "      box-shadow: 0px 1px 3px 1px rgba(0, 0, 0, 0.15);\n",
              "      filter: drop-shadow(0px 1px 2px rgba(0, 0, 0, 0.3));\n",
              "      fill: #FFFFFF;\n",
              "    }\n",
              "  </style>\n",
              "\n",
              "      <script>\n",
              "        const buttonEl =\n",
              "          document.querySelector('#df-25b64348-ea1d-44c5-ac74-00e2293cd7f6 button.colab-df-convert');\n",
              "        buttonEl.style.display =\n",
              "          google.colab.kernel.accessAllowed ? 'block' : 'none';\n",
              "\n",
              "        async function convertToInteractive(key) {\n",
              "          const element = document.querySelector('#df-25b64348-ea1d-44c5-ac74-00e2293cd7f6');\n",
              "          const dataTable =\n",
              "            await google.colab.kernel.invokeFunction('convertToInteractive',\n",
              "                                                     [key], {});\n",
              "          if (!dataTable) return;\n",
              "\n",
              "          const docLinkHtml = 'Like what you see? Visit the ' +\n",
              "            '<a target=\"_blank\" href=https://colab.research.google.com/notebooks/data_table.ipynb>data table notebook</a>'\n",
              "            + ' to learn more about interactive tables.';\n",
              "          element.innerHTML = '';\n",
              "          dataTable['output_type'] = 'display_data';\n",
              "          await google.colab.output.renderOutput(dataTable, element);\n",
              "          const docLink = document.createElement('div');\n",
              "          docLink.innerHTML = docLinkHtml;\n",
              "          element.appendChild(docLink);\n",
              "        }\n",
              "      </script>\n",
              "    </div>\n",
              "  </div>\n",
              "  "
            ]
          },
          "metadata": {},
          "execution_count": 12
        }
      ]
    },
    {
      "cell_type": "markdown",
      "source": [
        "# Коэффициент Пирсона"
      ],
      "metadata": {
        "id": "WyfVUS0vMLtk"
      }
    },
    {
      "cell_type": "code",
      "source": [
        "import seaborn as sns\n",
        "import matplotlib.pyplot as plt\n",
        "\n",
        "sns.heatmap(data.corr(), cmap='coolwarm', annot=True)\n",
        "plt.show()"
      ],
      "metadata": {
        "colab": {
          "base_uri": "https://localhost:8080/",
          "height": 710
        },
        "id": "5wCDAmJXMdtV",
        "outputId": "976b3b4f-6e55-4201-97e8-83eb58051798"
      },
      "execution_count": 20,
      "outputs": [
        {
          "output_type": "stream",
          "name": "stderr",
          "text": [
            "<ipython-input-20-79bd9588b458>:4: FutureWarning: The default value of numeric_only in DataFrame.corr is deprecated. In a future version, it will default to False. Select only valid columns or specify the value of numeric_only to silence this warning.\n",
            "  sns.heatmap(data.corr(), cmap='coolwarm', annot=True)\n"
          ]
        },
        {
          "output_type": "display_data",
          "data": {
            "text/plain": [
              "<Figure size 640x480 with 2 Axes>"
            ],
            "image/png": "[encoded data removed]"
          },
          "metadata": {}
        }
      ]
    },
    {
      "cell_type": "markdown",
      "source": [
        "Матрица корреляций на основе коэффициента Пирсона показывает только линейную зависимость."
      ],
      "metadata": {
        "id": "w7qUlwX5SQFm"
      }
    },
    {
      "cell_type": "markdown",
      "source": [
        "# MIC (minepy)"
      ],
      "metadata": {
        "id": "aq24Rr9fYesj"
      }
    },
    {
      "cell_type": "code",
      "source": [
        "!pip install minepy\n"
      ],
      "metadata": {
        "id": "CqY7KAisRTSX",
        "colab": {
          "base_uri": "https://localhost:8080/"
        },
        "outputId": "1d24c59c-2634-437a-cc0b-e687553a93bc"
      },
      "execution_count": 14,
      "outputs": [
        {
          "output_type": "stream",
          "name": "stdout",
          "text": [
            "Looking in indexes: https://pypi.org/simple, https://us-python.pkg.dev/colab-wheels/public/simple/\n",
            "Requirement already satisfied: minepy in /usr/local/lib/python3.9/dist-packages (1.2.6)\n",
            "Requirement already satisfied: numpy>=1.3.0 in /usr/local/lib/python3.9/dist-packages (from minepy) (1.22.4)\n"
          ]
        }
      ]
    },
    {
      "cell_type": "code",
      "source": [
        "def print_stats(mine):\n",
        "    print(\"MIC\", mine.mic())\n",
        "    print(\"MAS\", mine.mas())\n",
        "    print(\"MEV\", mine.mev())\n",
        "    print(\"GMIC\", mine.gmic())\n",
        "    print(\"TIC\", mine.tic())"
      ],
      "metadata": {
        "id": "BdN6dhC2-MiE"
      },
      "execution_count": 15,
      "outputs": []
    },
    {
      "cell_type": "markdown",
      "source": [
        "***MIC (Maximal Information Coefficient)*** - это мера взаимной информации, которая измеряет степень нелинейной зависимости между двумя переменными. MIC находится в диапазоне от 0 до 1, где 0 означает отсутствие зависимости, а 1 - идеальную зависимость.\n",
        "\n",
        "\n",
        "---\n",
        "\n",
        "\n",
        "***MAS (Maximal Asymmetric Surprisal)*** - это мера взаимной информации, которая измеряет количество информации, которую переменная X сообщает о переменной Y, но которую Y не сообщает о X. MAS находится в диапазоне от 0 до бесконечности, где 0 означает отсутствие зависимости.\n",
        "\n",
        "\n",
        "---\n",
        "\n",
        "\n",
        "***MEV (Maximal Eigenvalue of the covariance matrix)*** - это мера, которая используется для оценки степени линейной зависимости между переменными. MEV также находится в диапазоне от 0 до 1, где 0 означает отсутствие зависимости, а 1 - идеальную зависимость.\n",
        "\n",
        "\n",
        "---\n",
        "\n",
        "\n",
        "\n",
        "***GMIC (Generalized Maximal Information Coefficient)*** - это усовершенствованная версия MIC, которая учитывает не только нелинейную зависимость между переменными, но и корреляцию между ними. GMIC также находится в диапазоне от 0 до 1, где 0 означает отсутствие зависимости, а 1 - идеальную зависимость.\n",
        "\n",
        "\n",
        "---\n",
        "\n",
        "\n",
        "***TIC (Total Information Coefficient)*** - это мера, которая измеряет общую степень зависимости между двумя переменными, включая линейную и нелинейную зависимость, а также зависимость от других переменных. TIC находится в диапазоне от 0 до 1, где 0 означает отсутствие зависимости, а 1 - идеальном случае."
      ],
      "metadata": {
        "id": "IhPrHe6YR6DB"
      }
    },
    {
      "cell_type": "code",
      "source": [
        "import numpy as np\n",
        "import minepy\n",
        "\n",
        "mine = minepy.MINE(alpha=0.5, c=3, est=\"mic_approx\")\n",
        "\n",
        "X = np.asarray(data['Индекс народного голосования'])\n",
        "Y = np.asarray(data['Прошел'])\n",
        "\n",
        "mine.compute_score(X,Y)\n",
        "\n",
        "print_stats(mine)"
      ],
      "metadata": {
        "colab": {
          "base_uri": "https://localhost:8080/"
        },
        "id": "u5Twk3YE6OBY",
        "outputId": "e2d375fa-8361-4277-aab8-c50c33fd7439"
      },
      "execution_count": 16,
      "outputs": [
        {
          "output_type": "stream",
          "name": "stdout",
          "text": [
            "MIC 0.041890553280087804\n",
            "MAS 0.03843063088069103\n",
            "MEV 0.041890553280087804\n",
            "GMIC 0.02488813120691084\n",
            "TIC 0.4186607062715392\n"
          ]
        }
      ]
    },
    {
      "cell_type": "markdown",
      "source": [
        "Параметр ***'alpha'*** контролирует чувствительность MINE к нелинейным зависимостям между переменными. Значение alpha по умолчанию равно 0.6, но для данных с рейтингом депутатов и значениями {1, 0} можно принять значение равное 0.5\n",
        "\n",
        "---\n",
        "\n",
        "\n",
        "Параметр ***'c'*** отвечает за количество бинов, используемых при расчете MINE. Оптимальное значение для 438 записей в таблице было принято за 5.\n",
        "\n",
        "\n",
        "---\n",
        "\n",
        "\n",
        "Параметр ***'est'*** отвечает за метод оценки MINE и может принимать значения *'mic_approx'*, *'mic_e'*, *'mas'*, *'gmic'*, *'tic'*, 'mcpp'. Для данных с рейтингом депутатов и значениями {1, 0} можно начать с метода **'mic_approx'**, который является быстрой и точной оценкой MINE для данных с малым числом уникальных значений."
      ],
      "metadata": {
        "id": "VSrs0LzyTLpd"
      }
    },
    {
      "cell_type": "code",
      "source": [
        "from scipy.stats import norm\n",
        "\n",
        "\n",
        "corr = mine.mic()\n",
        "df = len(X) - 2\n",
        "t = corr * ((len(X) - 2) / ((1 - corr**2) * df))**0.5\n",
        "p_value = 2 * (1 - norm.cdf(abs(t)))\n",
        "\n",
        "print(\"p-value:\", p_value)"
      ],
      "metadata": {
        "colab": {
          "base_uri": "https://localhost:8080/"
        },
        "id": "PZ7m6IjiWz-y",
        "outputId": "cfd022bd-5bb4-40bf-9f29-35c806249681"
      },
      "execution_count": 17,
      "outputs": [
        {
          "output_type": "stream",
          "name": "stdout",
          "text": [
            "p-value: 0.9665566079294514\n"
          ]
        }
      ]
    },
    {
      "cell_type": "markdown",
      "source": [
        "Здесь мы используем стандартный подход, когда ***p-value*** вычисляется как вероятность получения значения статистики, не меньше, чем наблюдаемое значение, при условии, что корреляции между двумя переменными нет (нулевая гипотеза). Для этого мы вычисляем статистику t-распределения, используя коэффициент корреляции, количество наблюдений и количество степеней свободы. Затем мы используем функцию norm.cdf() из библиотеки SciPy для вычисления вероятности получения значения статистики меньше, чем наблюдаемое значение.\n",
        "\n",
        "\n",
        "---\n",
        "\n",
        "Значение ***p_value*** очень близко к 1, значит мы можем с уверенностью сказать, что нулевая гипотеза принимается с достаточно большой вероятностью и никакой корреляции на данной выборке данных выявлено не было."
      ],
      "metadata": {
        "id": "CjX9b-5FXVms"
      }
    },
    {
      "cell_type": "markdown",
      "source": [
        "# Коеффициент Фишера"
      ],
      "metadata": {
        "id": "wQhnY09_Fhaz"
      }
    },
    {
      "cell_type": "code",
      "source": [
        "from scipy.stats import pointbiserialr\n",
        "\n",
        "corr, p_value = pointbiserialr(X, Y)\n",
        "\n",
        "print(\"Коэффициент корреляции Фишера: \", corr)\n",
        "print(\"p_value: \", p_value)"
      ],
      "metadata": {
        "colab": {
          "base_uri": "https://localhost:8080/"
        },
        "id": "PgB5pC7mCPU4",
        "outputId": "3ce20490-2137-440d-c454-dda8f0f889fe"
      },
      "execution_count": 18,
      "outputs": [
        {
          "output_type": "stream",
          "name": "stdout",
          "text": [
            "Коэффициент корреляции Фишера:  0.050578526182084985\n",
            "p_value:  0.2908853697729455\n"
          ]
        }
      ]
    },
    {
      "cell_type": "markdown",
      "source": [
        "***p_value*** - это вероятность получить такое или еще более экстремальное значение коэффициента корреляции, если бы нулевая гипотеза о том, что коэффициент равен 0, была верна. То есть, если p-значение мало, это говорит о том, что есть значимая корреляция между двумя переменными.\n",
        "\n",
        "\n",
        "---\n",
        "\n",
        "\n",
        "**Коэффициент корреляции Фишера** (corr) принимает значения от -1 до 1, где:\n",
        "*   1 - полная положительная корреляция\n",
        "*   0 - отсутствие корреляции\n",
        "*  -1 - полная отрицательная корреляций\n",
        "\n",
        "Значение коэффициента корреляции Фишера интерпретируется как мера силы связи между двумя переменными, где значения близкие к 1 или -1 указывают на сильную связь, а значения близкие к 0 указывают на отсутствие связи.\n",
        "\n",
        "\n",
        "---\n",
        "\n",
        "***p_value*** равно 0.29, что означает вероятность случайной ошибки при отвержении нулевой гипотезы достигает почти 30%, что достаточно велико для того, чтобы мы могли сказать, что никакой связи между значениями на данной выборке не наблюдается."
      ],
      "metadata": {
        "id": "oQs66x_EIVZD"
      }
    },
    {
      "cell_type": "markdown",
      "source": [
        "# Оценка зависимости с помощью логистической регрессии."
      ],
      "metadata": {
        "id": "6zZnjE6VIIbH"
      }
    },
    {
      "cell_type": "code",
      "source": [
        "import statsmodels.api as sm\n",
        "\n",
        "y = Y.reshape(-1, 1)\n",
        "XLog = sm.add_constant(X.reshape(-1, 1))\n",
        "\n",
        "model = sm.Logit(y, XLog).fit()\n",
        "\n",
        "print(model.summary())"
      ],
      "metadata": {
        "id": "O9NnXEJ_Pzk6",
        "colab": {
          "base_uri": "https://localhost:8080/"
        },
        "outputId": "b7afbae0-d3c3-4dee-c6ae-7248c236627b"
      },
      "execution_count": 19,
      "outputs": [
        {
          "output_type": "stream",
          "name": "stdout",
          "text": [
            "Optimization terminated successfully.\n",
            "         Current function value: 0.689199\n",
            "         Iterations 4\n",
            "                           Logit Regression Results                           \n",
            "==============================================================================\n",
            "Dep. Variable:                      y   No. Observations:                  438\n",
            "Model:                          Logit   Df Residuals:                      436\n",
            "Method:                           MLE   Df Model:                            1\n",
            "Date:                Thu, 13 Apr 2023   Pseudo R-squ.:                0.001850\n",
            "Time:                        10:41:33   Log-Likelihood:                -301.87\n",
            "converged:                       True   LL-Null:                       -302.43\n",
            "Covariance Type:            nonrobust   LLR p-value:                    0.2901\n",
            "==============================================================================\n",
            "                 coef    std err          z      P>|z|      [0.025      0.975]\n",
            "------------------------------------------------------------------------------\n",
            "const         -0.2888      0.166     -1.742      0.082      -0.614       0.036\n",
            "x1             0.0381      0.036      1.052      0.293      -0.033       0.109\n",
            "==============================================================================\n"
          ]
        }
      ]
    },
    {
      "cell_type": "markdown",
      "source": [
        "**Pseudo R-squ.:** значение псевдо R-квадрата. Это мера качества модели, которая показывает, какую долю дисперсии зависимой переменной объясняют независимые переменные.\n",
        "\n",
        "\n",
        "---\n",
        "\n",
        "\n",
        "**LL-Null:** значение логарифма правдоподобия модели, в которой зависимая переменная всегда равна нулю. Это значение используется для сравнения модели со значением LL-Null, чтобы оценить, насколько хорошо модель соответствует данным. Чем выше значение логарифма правдоподобия у модели, тем лучше модель соответствует данным.\n",
        "\n",
        "\n",
        "---\n",
        "\n",
        "\n",
        "**z:** значение z-статистики для каждого коэффициента. Z-статистика показывает, насколько значим коэффициент. Чем выше значение z-статистики, тем более значим коэффициент.\n",
        "\n",
        "\n",
        "---\n",
        "\n",
        "\n",
        "**coeff:** Коэффициент, отвечающий за независимую переменную (в данном случае рейтинг), говорит о силе зависимости между переменными. Значение этого коэффициента показывает, как сильно изменение рейтинга народного голосования влияет на вероятность прохождения депутата в следующий созыв.\n",
        "\n",
        "\n",
        "---\n",
        "\n",
        "\n",
        "**P>|z|:** p-значение для каждого коэффициента. Оно показывает, насколько значим коэффициент. Чем ниже значение p-значения, тем более значим коэффициент."
      ],
      "metadata": {
        "id": "_xpcYaI4NPAs"
      }
    },
    {
      "cell_type": "markdown",
      "source": [
        "Итого мы получили совсем маленький коэффициент зависимости (coeff_x1) между рейтингом и прохождением в следующий созыв наряду с достаточно высоким значение P>|z|, что может говорит о том, что связь слишком слабая для того, чтобы можно было говорить о зависимости между прохождением в следующий созыв и народным рейтингом депутатов."
      ],
      "metadata": {
        "id": "Orikt1LiQ_md"
      }
    }
  ]
}